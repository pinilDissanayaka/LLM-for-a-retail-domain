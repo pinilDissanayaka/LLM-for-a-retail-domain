{
 "cells": [
  {
   "cell_type": "code",
   "execution_count": 10,
   "id": "7ab9367d",
   "metadata": {},
   "outputs": [],
   "source": [
    "from langchain.llms import GooglePalm\n",
    "from dotenv import load_dotenv\n",
    "import os"
   ]
  },
  {
   "cell_type": "code",
   "execution_count": 13,
   "id": "33326220",
   "metadata": {},
   "outputs": [],
   "source": [
    "load_dotenv('.env')\n",
    "\n",
    "google_api_key=os.getenv('GOOGLE_API_KEY')"
   ]
  },
  {
   "cell_type": "code",
   "execution_count": 15,
   "id": "700f82ee",
   "metadata": {},
   "outputs": [],
   "source": [
    "palmLlm = GooglePalm(google_api_key=google_api_key,\n",
    "                    temperature=0.2)"
   ]
  },
  {
   "cell_type": "code",
   "execution_count": 22,
   "id": "ad7dc01b",
   "metadata": {},
   "outputs": [
    {
     "name": "stdout",
     "output_type": "stream",
     "text": [
      "\n",
      "CREATE TABLE discounts (\n",
      "\tdiscount_id INTEGER(11) NOT NULL AUTO_INCREMENT, \n",
      "\tt_shirt_id INTEGER(11) NOT NULL, \n",
      "\tpct_discount DECIMAL(5, 2), \n",
      "\tPRIMARY KEY (discount_id), \n",
      "\tCONSTRAINT discounts_ibfk_1 FOREIGN KEY(t_shirt_id) REFERENCES t_shirts (t_shirt_id)\n",
      ")ENGINE=InnoDB COLLATE latin1_swedish_ci DEFAULT CHARSET=latin1\n",
      "\n",
      "/*\n",
      "3 rows from discounts table:\n",
      "discount_id\tt_shirt_id\tpct_discount\n",
      "\n",
      "*/\n",
      "\n",
      "\n",
      "CREATE TABLE t_shirts (\n",
      "\tt_shirt_id INTEGER(11) NOT NULL AUTO_INCREMENT, \n",
      "\tbrand ENUM('Van Huesen','Levi','Nike','Adidas') NOT NULL, \n",
      "\tcolor ENUM('Red','Blue','Black','White') NOT NULL, \n",
      "\tsize ENUM('XS','S','M','L','XL') NOT NULL, \n",
      "\tprice INTEGER(11), \n",
      "\tstock_quantity INTEGER(11) NOT NULL, \n",
      "\tPRIMARY KEY (t_shirt_id)\n",
      ")ENGINE=InnoDB COLLATE latin1_swedish_ci DEFAULT CHARSET=latin1\n",
      "\n",
      "/*\n",
      "3 rows from t_shirts table:\n",
      "t_shirt_id\tbrand\tcolor\tsize\tprice\tstock_quantity\n",
      "1\tLevi\tBlue\tXS\t11\t72\n",
      "3\tAdidas\tWhite\tXL\t31\t23\n",
      "4\tVan Huesen\tBlue\tM\t12\t11\n",
      "*/\n"
     ]
    }
   ],
   "source": [
    "from langchain.utilities import SQLDatabase\n",
    "\n",
    "db_user='root'\n",
    "db_password=''\n",
    "db_host='localhost'\n",
    "db_name='atliq_tshirts'\n",
    "\n",
    "sqlDb=SQLDatabase.from_uri(f\"mysql+pymysql://{db_user}:{db_password}@{db_host}/{db_name}\",sample_rows_in_table_info=3)\n",
    "\n",
    "print(sqlDb.table_info)"
   ]
  },
  {
   "cell_type": "code",
   "execution_count": null,
   "id": "24ed1cf2",
   "metadata": {},
   "outputs": [],
   "source": []
  }
 ],
 "metadata": {
  "kernelspec": {
   "display_name": "Python 3 (ipykernel)",
   "language": "python",
   "name": "python3"
  },
  "language_info": {
   "codemirror_mode": {
    "name": "ipython",
    "version": 3
   },
   "file_extension": ".py",
   "mimetype": "text/x-python",
   "name": "python",
   "nbconvert_exporter": "python",
   "pygments_lexer": "ipython3",
   "version": "3.11.5"
  }
 },
 "nbformat": 4,
 "nbformat_minor": 5
}
